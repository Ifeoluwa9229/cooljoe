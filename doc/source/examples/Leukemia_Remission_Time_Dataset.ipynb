{
 "cells": [
  {
   "cell_type": "markdown",
   "metadata": {},
   "source": [
    "# Leukemia Remission Times\n",
    "\n",
    "These data are the times of remission (in weeks) of leukemia patients.\n",
    "Out of the 42 total patients, 21 were in a control group, and the other 21 were in a treatment group.\n",
    "Patients were observed until their leukemia symptoms relapsed or until the study ended, whichever occurred first.\n",
    "Each patient in the control group experienced relapse before the study ended, while 12 patients in the treatment group did not come out of remission during the study.\n",
    "Thus, there is heavy right-censoring in the treatment group and no right-censoring in the control group.\n",
    "\n",
    "One of the questions to ask about this dataset is whether the treatment prolonged the time until relapse.\n",
    "Formally, we are interested in whether there is a statistical difference between the time-to-relapse distributions of the control and treatment groups.\n",
    "In this notebook we will use the `survive` package to investigate this question."
   ]
  },
  {
   "cell_type": "code",
   "execution_count": 1,
   "metadata": {},
   "outputs": [],
   "source": [
    "import matplotlib.pyplot as plt\n",
    "import seaborn as sns\n",
    "sns.set(style=\"darkgrid\", palette=\"colorblind\", color_codes=True)\n",
    "\n",
    "from survive import datasets\n",
    "from survive import SurvivalData\n",
    "from survive.nonparametric import KaplanMeier, NelsonAalen"
   ]
  },
  {
   "cell_type": "markdown",
   "metadata": {},
   "source": [
    "## Loading the dataset\n",
    "\n",
    "The `leukemia()` function in the `survive.datasets` module loads a pandas DataFrame containing the leukemia data.\n",
    "The columns of this DataFrame are\n",
    "\n",
    "* `time` - The patients' observed leukemia remission times (in weeks).\n",
    "* `status` - Event/censoring indicator: 1 indicates that the patient's leukemia relapsed, and 0 indicates that the study ended before relapse.\n",
    "* `group` - Indicates whether a patient is from the control or treatment group."
   ]
  },
  {
   "cell_type": "code",
   "execution_count": 2,
   "metadata": {
    "scrolled": false
   },
   "outputs": [
    {
     "data": {
      "text/html": [
       "<div>\n",
       "<style scoped>\n",
       "    .dataframe tbody tr th:only-of-type {\n",
       "        vertical-align: middle;\n",
       "    }\n",
       "\n",
       "    .dataframe tbody tr th {\n",
       "        vertical-align: top;\n",
       "    }\n",
       "\n",
       "    .dataframe thead th {\n",
       "        text-align: right;\n",
       "    }\n",
       "</style>\n",
       "<table border=\"1\" class=\"dataframe\">\n",
       "  <thead>\n",
       "    <tr style=\"text-align: right;\">\n",
       "      <th></th>\n",
       "      <th>time</th>\n",
       "      <th>status</th>\n",
       "      <th>group</th>\n",
       "    </tr>\n",
       "    <tr>\n",
       "      <th>patient</th>\n",
       "      <th></th>\n",
       "      <th></th>\n",
       "      <th></th>\n",
       "    </tr>\n",
       "  </thead>\n",
       "  <tbody>\n",
       "    <tr>\n",
       "      <th>0</th>\n",
       "      <td>1</td>\n",
       "      <td>1</td>\n",
       "      <td>control</td>\n",
       "    </tr>\n",
       "    <tr>\n",
       "      <th>1</th>\n",
       "      <td>1</td>\n",
       "      <td>1</td>\n",
       "      <td>control</td>\n",
       "    </tr>\n",
       "    <tr>\n",
       "      <th>2</th>\n",
       "      <td>2</td>\n",
       "      <td>1</td>\n",
       "      <td>control</td>\n",
       "    </tr>\n",
       "    <tr>\n",
       "      <th>3</th>\n",
       "      <td>2</td>\n",
       "      <td>1</td>\n",
       "      <td>control</td>\n",
       "    </tr>\n",
       "    <tr>\n",
       "      <th>4</th>\n",
       "      <td>3</td>\n",
       "      <td>1</td>\n",
       "      <td>control</td>\n",
       "    </tr>\n",
       "  </tbody>\n",
       "</table>\n",
       "</div>"
      ],
      "text/plain": [
       "         time  status    group\n",
       "patient                       \n",
       "0           1       1  control\n",
       "1           1       1  control\n",
       "2           2       1  control\n",
       "3           2       1  control\n",
       "4           3       1  control"
      ]
     },
     "metadata": {},
     "output_type": "display_data"
    }
   ],
   "source": [
    "leukemia = datasets.leukemia()\n",
    "display(leukemia.head())"
   ]
  },
  {
   "cell_type": "markdown",
   "metadata": {},
   "source": [
    "## Exploratory data analysis with `SurvivalData`"
   ]
  },
  {
   "cell_type": "markdown",
   "metadata": {},
   "source": [
    "The `SurvivalData` class in `survive.base` is a fundamental class for storing and dealing with survival/lifetime data.\n",
    "It is aware of groups within the data and allows quick access to various important quantities (like the number of events or the number of individuals at risk at a certain time).\n",
    "\n",
    "If your survival data is stored in a pandas DataFrame (like the leukemia data is), then a `SurvivalData` object can be created by specifying the DataFrame and the names of the columns corresponding to the observed times, censoring indicators, and group labels."
   ]
  },
  {
   "cell_type": "code",
   "execution_count": 3,
   "metadata": {},
   "outputs": [],
   "source": [
    "surv = SurvivalData(time=\"time\", status=\"status\", group=\"group\", df=leukemia)"
   ]
  },
  {
   "cell_type": "markdown",
   "metadata": {},
   "source": [
    "Alternatively, you may specify one-dimensional arrays of observed times, censoring indicators, and group labels directly.\n",
    "This is so that your can use `SurvivalData` even if your data aren't stored in a DataFrame."
   ]
  },
  {
   "cell_type": "code",
   "execution_count": 4,
   "metadata": {},
   "outputs": [],
   "source": [
    "# Equivalent to the constructor call above\n",
    "surv = SurvivalData(time=leukemia.time, status=leukemia.status,\n",
    "                    group=leukemia.group)"
   ]
  },
  {
   "cell_type": "markdown",
   "metadata": {},
   "source": [
    "### Describing the data\n",
    "\n",
    "Printing a `SurvivalData` object shows the observed survival times within each group.\n",
    "Censored times are marked by a plus by default (indicating that the true survival time for that individual might be longer)."
   ]
  },
  {
   "cell_type": "code",
   "execution_count": 5,
   "metadata": {},
   "outputs": [
    {
     "name": "stdout",
     "output_type": "stream",
     "text": [
      "control\n",
      "\n",
      " 1  1  2  2  3  4  4  5  5  8  8  8  8 11 11 12 12 15 17 22 23\n",
      "\n",
      "treatment\n",
      "\n",
      " 6   6   6   6+  7   9+ 10  10+ 11+ 13  16  17+ 19+ 20+ 22  23  25+ 32+ 32+\n",
      "34+ 35+\n"
     ]
    }
   ],
   "source": [
    "print(surv)"
   ]
  },
  {
   "cell_type": "markdown",
   "metadata": {},
   "source": [
    "The `describe` property of a `SurvivalData` object is a pandas DataFrame containing simple descriptive statistics of the survival data."
   ]
  },
  {
   "cell_type": "code",
   "execution_count": 6,
   "metadata": {},
   "outputs": [
    {
     "data": {
      "text/html": [
       "<div>\n",
       "<style scoped>\n",
       "    .dataframe tbody tr th:only-of-type {\n",
       "        vertical-align: middle;\n",
       "    }\n",
       "\n",
       "    .dataframe tbody tr th {\n",
       "        vertical-align: top;\n",
       "    }\n",
       "\n",
       "    .dataframe thead th {\n",
       "        text-align: right;\n",
       "    }\n",
       "</style>\n",
       "<table border=\"1\" class=\"dataframe\">\n",
       "  <thead>\n",
       "    <tr style=\"text-align: right;\">\n",
       "      <th></th>\n",
       "      <th>total</th>\n",
       "      <th>events</th>\n",
       "      <th>censored</th>\n",
       "    </tr>\n",
       "    <tr>\n",
       "      <th>group</th>\n",
       "      <th></th>\n",
       "      <th></th>\n",
       "      <th></th>\n",
       "    </tr>\n",
       "  </thead>\n",
       "  <tbody>\n",
       "    <tr>\n",
       "      <th>control</th>\n",
       "      <td>21</td>\n",
       "      <td>21</td>\n",
       "      <td>0</td>\n",
       "    </tr>\n",
       "    <tr>\n",
       "      <th>treatment</th>\n",
       "      <td>21</td>\n",
       "      <td>9</td>\n",
       "      <td>12</td>\n",
       "    </tr>\n",
       "  </tbody>\n",
       "</table>\n",
       "</div>"
      ],
      "text/plain": [
       "           total  events  censored\n",
       "group                             \n",
       "control       21      21         0\n",
       "treatment     21       9        12"
      ]
     },
     "metadata": {},
     "output_type": "display_data"
    }
   ],
   "source": [
    "display(surv.describe)"
   ]
  },
  {
   "cell_type": "markdown",
   "metadata": {},
   "source": [
    "### Visualizing the survival data\n",
    "\n",
    "The `plot_lifetimes()` method of a `SurvivalData` object plots the observed lifetimes of all the individuals in the data.\n",
    "Censored individuals are marked at the end of their lifespan."
   ]
  },
  {
   "cell_type": "code",
   "execution_count": 7,
   "metadata": {},
   "outputs": [
    {
     "data": {
      "image/png": "[encoded data removed]",
      "text/plain": [
       "<Figure size 720x432 with 1 Axes>"
      ]
     },
     "metadata": {
      "image/png": {
       "height": 371,
       "width": 575
      }
     },
     "output_type": "display_data"
    }
   ],
   "source": [
    "plt.figure(figsize=(10, 6))\n",
    "surv.plot_lifetimes()\n",
    "plt.show()\n",
    "plt.close()"
   ]
  },
  {
   "cell_type": "markdown",
   "metadata": {},
   "source": [
    "There are many longer remission times observed in the treatment group.\n",
    "However, while this observation is encouraging, it is is not enough evidence to guarantee a statistically significance treatment effect."
   ]
  },
  {
   "cell_type": "markdown",
   "metadata": {},
   "source": [
    "### Computing the number of events and number of individuals at risk\n",
    "\n",
    "You can compute the number of events that occured at a given time within each group using the `n_events()` method, which returns a pandas DataFrame."
   ]
  },
  {
   "cell_type": "code",
   "execution_count": 8,
   "metadata": {},
   "outputs": [
    {
     "data": {
      "text/html": [
       "<div>\n",
       "<style scoped>\n",
       "    .dataframe tbody tr th:only-of-type {\n",
       "        vertical-align: middle;\n",
       "    }\n",
       "\n",
       "    .dataframe tbody tr th {\n",
       "        vertical-align: top;\n",
       "    }\n",
       "\n",
       "    .dataframe thead th {\n",
       "        text-align: right;\n",
       "    }\n",
       "</style>\n",
       "<table border=\"1\" class=\"dataframe\">\n",
       "  <thead>\n",
       "    <tr style=\"text-align: right;\">\n",
       "      <th>group</th>\n",
       "      <th>control</th>\n",
       "      <th>treatment</th>\n",
       "    </tr>\n",
       "    <tr>\n",
       "      <th>time</th>\n",
       "      <th></th>\n",
       "      <th></th>\n",
       "    </tr>\n",
       "  </thead>\n",
       "  <tbody>\n",
       "    <tr>\n",
       "      <th>1</th>\n",
       "      <td>2</td>\n",
       "      <td>0</td>\n",
       "    </tr>\n",
       "    <tr>\n",
       "      <th>2</th>\n",
       "      <td>2</td>\n",
       "      <td>0</td>\n",
       "    </tr>\n",
       "    <tr>\n",
       "      <th>3</th>\n",
       "      <td>1</td>\n",
       "      <td>0</td>\n",
       "    </tr>\n",
       "    <tr>\n",
       "      <th>4</th>\n",
       "      <td>2</td>\n",
       "      <td>0</td>\n",
       "    </tr>\n",
       "    <tr>\n",
       "      <th>5</th>\n",
       "      <td>2</td>\n",
       "      <td>0</td>\n",
       "    </tr>\n",
       "    <tr>\n",
       "      <th>6</th>\n",
       "      <td>0</td>\n",
       "      <td>3</td>\n",
       "    </tr>\n",
       "    <tr>\n",
       "      <th>7</th>\n",
       "      <td>0</td>\n",
       "      <td>1</td>\n",
       "    </tr>\n",
       "    <tr>\n",
       "      <th>8</th>\n",
       "      <td>4</td>\n",
       "      <td>0</td>\n",
       "    </tr>\n",
       "    <tr>\n",
       "      <th>9</th>\n",
       "      <td>0</td>\n",
       "      <td>0</td>\n",
       "    </tr>\n",
       "    <tr>\n",
       "      <th>10</th>\n",
       "      <td>0</td>\n",
       "      <td>1</td>\n",
       "    </tr>\n",
       "  </tbody>\n",
       "</table>\n",
       "</div>"
      ],
      "text/plain": [
       "group  control  treatment\n",
       "time                     \n",
       "1            2          0\n",
       "2            2          0\n",
       "3            1          0\n",
       "4            2          0\n",
       "5            2          0\n",
       "6            0          3\n",
       "7            0          1\n",
       "8            4          0\n",
       "9            0          0\n",
       "10           0          1"
      ]
     },
     "metadata": {},
     "output_type": "display_data"
    }
   ],
   "source": [
    "display(surv.n_events([1, 2, 3, 4, 5, 6, 7, 8, 9, 10]))"
   ]
  },
  {
   "cell_type": "markdown",
   "metadata": {},
   "source": [
    "In a survival study, the number of individuals \"at risk\" at any given time is defined to be the number of individuals who have entered the study by that time and have not yet experienced an event or censoring immediately before that time.\n",
    "This number over time is called the *at-risk process*.\n",
    "\n",
    "You can compute the number of individuals at risk within each group at a given time using the `n_at_risk()` method.\n",
    "Like `n_events()`, this method also returns a DataFrame."
   ]
  },
  {
   "cell_type": "code",
   "execution_count": 9,
   "metadata": {
    "scrolled": false
   },
   "outputs": [
    {
     "data": {
      "text/html": [
       "<div>\n",
       "<style scoped>\n",
       "    .dataframe tbody tr th:only-of-type {\n",
       "        vertical-align: middle;\n",
       "    }\n",
       "\n",
       "    .dataframe tbody tr th {\n",
       "        vertical-align: top;\n",
       "    }\n",
       "\n",
       "    .dataframe thead th {\n",
       "        text-align: right;\n",
       "    }\n",
       "</style>\n",
       "<table border=\"1\" class=\"dataframe\">\n",
       "  <thead>\n",
       "    <tr style=\"text-align: right;\">\n",
       "      <th>group</th>\n",
       "      <th>control</th>\n",
       "      <th>treatment</th>\n",
       "    </tr>\n",
       "    <tr>\n",
       "      <th>time</th>\n",
       "      <th></th>\n",
       "      <th></th>\n",
       "    </tr>\n",
       "  </thead>\n",
       "  <tbody>\n",
       "    <tr>\n",
       "      <th>0</th>\n",
       "      <td>0</td>\n",
       "      <td>0</td>\n",
       "    </tr>\n",
       "    <tr>\n",
       "      <th>5</th>\n",
       "      <td>14</td>\n",
       "      <td>21</td>\n",
       "    </tr>\n",
       "    <tr>\n",
       "      <th>10</th>\n",
       "      <td>8</td>\n",
       "      <td>15</td>\n",
       "    </tr>\n",
       "    <tr>\n",
       "      <th>20</th>\n",
       "      <td>2</td>\n",
       "      <td>8</td>\n",
       "    </tr>\n",
       "    <tr>\n",
       "      <th>25</th>\n",
       "      <td>0</td>\n",
       "      <td>5</td>\n",
       "    </tr>\n",
       "    <tr>\n",
       "      <th>30</th>\n",
       "      <td>0</td>\n",
       "      <td>4</td>\n",
       "    </tr>\n",
       "    <tr>\n",
       "      <th>35</th>\n",
       "      <td>0</td>\n",
       "      <td>1</td>\n",
       "    </tr>\n",
       "  </tbody>\n",
       "</table>\n",
       "</div>"
      ],
      "text/plain": [
       "group  control  treatment\n",
       "time                     \n",
       "0            0          0\n",
       "5           14         21\n",
       "10           8         15\n",
       "20           2          8\n",
       "25           0          5\n",
       "30           0          4\n",
       "35           0          1"
      ]
     },
     "metadata": {},
     "output_type": "display_data"
    }
   ],
   "source": [
    "display(surv.n_at_risk([0, 5, 10, 20, 25, 30, 35]))"
   ]
  },
  {
   "cell_type": "markdown",
   "metadata": {},
   "source": [
    "### Plotting the at-risk process\n",
    "\n",
    "You can plot the at-risk process using the `plot_at_risk()` method of a `SurvivalData` object."
   ]
  },
  {
   "cell_type": "code",
   "execution_count": 10,
   "metadata": {},
   "outputs": [
    {
     "data": {
      "image/png": "[encoded data removed]",
      "text/plain": [
       "<Figure size 720x432 with 1 Axes>"
      ]
     },
     "metadata": {
      "image/png": {
       "height": 371,
       "width": 604
      }
     },
     "output_type": "display_data"
    }
   ],
   "source": [
    "plt.figure(figsize=(10, 6))\n",
    "surv.plot_at_risk()\n",
    "plt.show()\n",
    "plt.close()"
   ]
  },
  {
   "cell_type": "markdown",
   "metadata": {},
   "source": [
    "## Estimating the survival function with `KaplanMeier`"
   ]
  },
  {
   "cell_type": "markdown",
   "metadata": {},
   "source": [
    "### Kaplan-Meier estimator\n",
    "\n",
    "The *Kaplan-Meier estimator* (AKA *product limit estimator*) is a nonparametric estimator of the survival function of the time-to-event distribution that can be used even in the presence of right-censoring.\n",
    "\n",
    "The `KaplanMeier` class in the `survive.nonparametric` module implements the Kaplan-Meier estimator."
   ]
  },
  {
   "cell_type": "markdown",
   "metadata": {},
   "source": [
    "### Initializing the estimator\n",
    "\n",
    "You can initialize a `KaplanMeier` object with no parameters."
   ]
  },
  {
   "cell_type": "code",
   "execution_count": 11,
   "metadata": {},
   "outputs": [],
   "source": [
    "# Kaplan-Meier estimator to be used for the leukemia data\n",
    "km = KaplanMeier()"
   ]
  },
  {
   "cell_type": "markdown",
   "metadata": {},
   "source": [
    "Now `km` is a Kaplan-Meier estimator waiting to be fitted to survival data.\n",
    "We didn't pass any parameters to the initializer of the Kaplan-Meier estimator, but we could have.\n",
    "Printing a `KaplanMeier` object shows what initializer parameter values were used for that object (and default values for parameters that weren't specified explicitly)."
   ]
  },
  {
   "cell_type": "code",
   "execution_count": 12,
   "metadata": {},
   "outputs": [
    {
     "name": "stdout",
     "output_type": "stream",
     "text": [
      "KaplanMeier(conf_level=0.95, conf_type='log-log', n_boot=500,\n",
      "            random_state=None, tie_break='discrete', var_type='greenwood')\n"
     ]
    }
   ],
   "source": [
    "print(km)"
   ]
  },
  {
   "cell_type": "markdown",
   "metadata": {},
   "source": [
    "We'll use these default parameters."
   ]
  },
  {
   "cell_type": "markdown",
   "metadata": {},
   "source": [
    "### Fitting the estimator to the leukemia data\n",
    "\n",
    "We can fit our Kaplan-Meier estimator to the leukemia data using the `fit()` method.\n",
    "There are a few ways of doing this, but the easiest is to pass it an existing `SurvivalData` instance."
   ]
  },
  {
   "cell_type": "code",
   "execution_count": 13,
   "metadata": {},
   "outputs": [
    {
     "data": {
      "text/plain": [
       "KaplanMeier(conf_level=0.95, conf_type='log-log', n_boot=500,\n",
       "            random_state=None, tie_break='discrete', var_type='greenwood')"
      ]
     },
     "execution_count": 13,
     "metadata": {},
     "output_type": "execute_result"
    }
   ],
   "source": [
    "km.fit(surv)"
   ]
  },
  {
   "cell_type": "markdown",
   "metadata": {},
   "source": [
    "The other ways to call `fit()` are described in the method's docstring.\n",
    "Note that `fit()` fits the estimator in-place and returns the estimator itself."
   ]
  },
  {
   "cell_type": "markdown",
   "metadata": {},
   "source": [
    "### Summarizing the fit\n",
    "\n",
    "Once the estimator is fitted, the `summary` property of a `KaplanMeier` object tabulates the survival probability estimates and thier standard error and confidence intervals for the event times within each group.\n",
    "It can be printed to display all the information at once."
   ]
  },
  {
   "cell_type": "code",
   "execution_count": 14,
   "metadata": {},
   "outputs": [
    {
     "name": "stdout",
     "output_type": "stream",
     "text": [
      "Kaplan-Meier estimator\n",
      "\n",
      "control\n",
      "\n",
      "total  events  censored\n",
      "                       \n",
      "   21      21         0\n",
      "\n",
      "time  events  at risk  estimate  std. error  95% c.i. lower  95% c.i. upper\n",
      "   1       2       21  0.904762    0.064056        0.670046        0.975294\n",
      "   2       2       19  0.809524    0.085689        0.568905        0.923889\n",
      "   3       1       17  0.761905    0.092943        0.519391        0.893257\n",
      "   4       2       16  0.666667    0.102869        0.425350        0.825044\n",
      "   5       2       14  0.571429    0.107990        0.337977        0.749241\n",
      "   8       4       12  0.380952    0.105971        0.183067        0.577789\n",
      "  11       2        8  0.285714    0.098581        0.116561        0.481820\n",
      "  12       2        6  0.190476    0.085689        0.059482        0.377435\n",
      "  15       1        4  0.142857    0.076360        0.035657        0.321162\n",
      "  17       1        3  0.095238    0.064056        0.016259        0.261250\n",
      "  22       1        2  0.047619    0.046471        0.003324        0.197045\n",
      "  23       1        1  0.000000         NaN             NaN             NaN\n",
      "\n",
      "treatment\n",
      "\n",
      "total  events  censored\n",
      "                       \n",
      "   21       9        12\n",
      "\n",
      "time  events  at risk  estimate  std. error  95% c.i. lower  95% c.i. upper\n",
      "   6       3       21  0.857143    0.076360        0.619718        0.951552\n",
      "   7       1       17  0.806723    0.086935        0.563147        0.922809\n",
      "  10       1       15  0.752941    0.096350        0.503200        0.889362\n",
      "  13       1       12  0.690196    0.106815        0.431610        0.849066\n",
      "  16       1       11  0.627451    0.114054        0.367511        0.804912\n",
      "  22       1        7  0.537815    0.128234        0.267779        0.746791\n",
      "  23       1        6  0.448179    0.134591        0.188052        0.680143\n"
     ]
    }
   ],
   "source": [
    "print(km.summary)"
   ]
  },
  {
   "cell_type": "markdown",
   "metadata": {},
   "source": [
    "*Note:* The NaNs (not a number) appearing in the summary are caused by the standard error estimates not being defined when the survival function estimate is indentically zero.\n",
    "This is expected behavior."
   ]
  },
  {
   "cell_type": "markdown",
   "metadata": {},
   "source": [
    "### Visualizing the fit\n",
    "\n",
    "The estimated survival curves for the two groups can be drawn using the `plot()` method of the `KaplanMeier` object.\n",
    "By default, censored times in the sample are indicated by plus signs on the curve."
   ]
  },
  {
   "cell_type": "code",
   "execution_count": 15,
   "metadata": {
    "scrolled": false
   },
   "outputs": [
    {
     "data": {
      "image/png": "[encoded data removed]",
      "text/plain": [
       "<Figure size 720x432 with 1 Axes>"
      ]
     },
     "metadata": {
      "image/png": {
       "height": 371,
       "width": 607
      }
     },
     "output_type": "display_data"
    }
   ],
   "source": [
    "plt.figure(figsize=(10, 6))\n",
    "km.plot()\n",
    "plt.show()\n",
    "plt.close()"
   ]
  },
  {
   "cell_type": "markdown",
   "metadata": {},
   "source": [
    "The plot seems to indicate that the patients in the treatment group are more likely to have longer remission times than patients in the control group."
   ]
  },
  {
   "cell_type": "markdown",
   "metadata": {},
   "source": [
    "### Estimating survival probabilities\n",
    "\n",
    "The `predict()` method of a `KaplanMeier` object returns a pandas DataFrame of estimated probabiltiies for surviving past a certain time for each group."
   ]
  },
  {
   "cell_type": "code",
   "execution_count": 16,
   "metadata": {},
   "outputs": [
    {
     "data": {
      "text/html": [
       "<div>\n",
       "<style scoped>\n",
       "    .dataframe tbody tr th:only-of-type {\n",
       "        vertical-align: middle;\n",
       "    }\n",
       "\n",
       "    .dataframe tbody tr th {\n",
       "        vertical-align: top;\n",
       "    }\n",
       "\n",
       "    .dataframe thead th {\n",
       "        text-align: right;\n",
       "    }\n",
       "</style>\n",
       "<table border=\"1\" class=\"dataframe\">\n",
       "  <thead>\n",
       "    <tr style=\"text-align: right;\">\n",
       "      <th>group</th>\n",
       "      <th>control</th>\n",
       "      <th>treatment</th>\n",
       "    </tr>\n",
       "    <tr>\n",
       "      <th>time</th>\n",
       "      <th></th>\n",
       "      <th></th>\n",
       "    </tr>\n",
       "  </thead>\n",
       "  <tbody>\n",
       "    <tr>\n",
       "      <th>5</th>\n",
       "      <td>0.571429</td>\n",
       "      <td>1.000000</td>\n",
       "    </tr>\n",
       "    <tr>\n",
       "      <th>10</th>\n",
       "      <td>0.380952</td>\n",
       "      <td>0.752941</td>\n",
       "    </tr>\n",
       "    <tr>\n",
       "      <th>15</th>\n",
       "      <td>0.142857</td>\n",
       "      <td>0.690196</td>\n",
       "    </tr>\n",
       "    <tr>\n",
       "      <th>20</th>\n",
       "      <td>0.095238</td>\n",
       "      <td>0.627451</td>\n",
       "    </tr>\n",
       "    <tr>\n",
       "      <th>25</th>\n",
       "      <td>0.000000</td>\n",
       "      <td>0.448179</td>\n",
       "    </tr>\n",
       "  </tbody>\n",
       "</table>\n",
       "</div>"
      ],
      "text/plain": [
       "group   control  treatment\n",
       "time                      \n",
       "5      0.571429   1.000000\n",
       "10     0.380952   0.752941\n",
       "15     0.142857   0.690196\n",
       "20     0.095238   0.627451\n",
       "25     0.000000   0.448179"
      ]
     },
     "metadata": {},
     "output_type": "display_data"
    }
   ],
   "source": [
    "estimate = km.predict([5, 10, 15, 20, 25])\n",
    "display(estimate)"
   ]
  },
  {
   "cell_type": "markdown",
   "metadata": {},
   "source": [
    "### Estimating time-to-event distribution quantiles\n",
    "\n",
    "The `quantile()` function of a `KaplanMeier` object returns a pandas DataFrame of empirical quantile estimates for the time-to-relapse distribution"
   ]
  },
  {
   "cell_type": "code",
   "execution_count": 17,
   "metadata": {},
   "outputs": [
    {
     "data": {
      "text/html": [
       "<div>\n",
       "<style scoped>\n",
       "    .dataframe tbody tr th:only-of-type {\n",
       "        vertical-align: middle;\n",
       "    }\n",
       "\n",
       "    .dataframe tbody tr th {\n",
       "        vertical-align: top;\n",
       "    }\n",
       "\n",
       "    .dataframe thead th {\n",
       "        text-align: right;\n",
       "    }\n",
       "</style>\n",
       "<table border=\"1\" class=\"dataframe\">\n",
       "  <thead>\n",
       "    <tr style=\"text-align: right;\">\n",
       "      <th>group</th>\n",
       "      <th>control</th>\n",
       "      <th>treatment</th>\n",
       "    </tr>\n",
       "    <tr>\n",
       "      <th>prob</th>\n",
       "      <th></th>\n",
       "      <th></th>\n",
       "    </tr>\n",
       "  </thead>\n",
       "  <tbody>\n",
       "    <tr>\n",
       "      <th>0.25</th>\n",
       "      <td>4.0</td>\n",
       "      <td>13.0</td>\n",
       "    </tr>\n",
       "    <tr>\n",
       "      <th>0.50</th>\n",
       "      <td>8.0</td>\n",
       "      <td>23.0</td>\n",
       "    </tr>\n",
       "    <tr>\n",
       "      <th>0.75</th>\n",
       "      <td>12.0</td>\n",
       "      <td>NaN</td>\n",
       "    </tr>\n",
       "  </tbody>\n",
       "</table>\n",
       "</div>"
      ],
      "text/plain": [
       "group  control  treatment\n",
       "prob                     \n",
       "0.25       4.0       13.0\n",
       "0.50       8.0       23.0\n",
       "0.75      12.0        NaN"
      ]
     },
     "metadata": {},
     "output_type": "display_data"
    }
   ],
   "source": [
    "quantiles = km.quantile([0.25, 0.5, 0.75])\n",
    "display(quantiles)"
   ]
  },
  {
   "cell_type": "markdown",
   "metadata": {},
   "source": [
    "## Estimating the cumulative hazard with `NelsonAalen`"
   ]
  },
  {
   "cell_type": "markdown",
   "metadata": {},
   "source": [
    "### Nelson-Aalen estimator\n",
    "\n",
    "The *Nelson-Aalen estimator* is a nonparametric estimator of the cumulative hazard of the time-to-event distribution.\n",
    "The `NelsonAalen` class in the `survive.nonparametric` module implements this estimator.\n",
    "Its API is nearly identical to the `KaplanMeier` API described above."
   ]
  },
  {
   "cell_type": "markdown",
   "metadata": {},
   "source": [
    "### Initializing and fitting the estimator\n",
    "\n",
    "You can initialize a `NelsonAalen` object with no parameters and call the `fit()` methon on the leukemia data."
   ]
  },
  {
   "cell_type": "code",
   "execution_count": 18,
   "metadata": {},
   "outputs": [
    {
     "data": {
      "text/plain": [
       "NelsonAalen(conf_level=0.95, conf_type='log', tie_break='discrete')"
      ]
     },
     "execution_count": 18,
     "metadata": {},
     "output_type": "execute_result"
    }
   ],
   "source": [
    "na = NelsonAalen()\n",
    "na.fit(surv)"
   ]
  },
  {
   "cell_type": "markdown",
   "metadata": {},
   "source": [
    "### Visualizing the estimated cumulative hazard\n",
    "\n",
    "The estimated cumulative hazard for the two groups can be drawn using the `plot()` method of the `NelsonAalen` object.\n",
    "By default, censored times in the sample are indicated by plus signs on the curve."
   ]
  },
  {
   "cell_type": "code",
   "execution_count": 19,
   "metadata": {
    "scrolled": false
   },
   "outputs": [
    {
     "data": {
      "image/png": "[encoded data removed]",
      "text/plain": [
       "<Figure size 720x432 with 1 Axes>"
      ]
     },
     "metadata": {
      "image/png": {
       "height": 371,
       "width": 598
      }
     },
     "output_type": "display_data"
    }
   ],
   "source": [
    "plt.figure(figsize=(10, 6))\n",
    "na.plot()\n",
    "plt.show()\n",
    "plt.close()"
   ]
  }
 ],
 "metadata": {
  "kernelspec": {
   "display_name": "Python 3",
   "language": "python",
   "name": "python3"
  },
  "language_info": {
   "codemirror_mode": {
    "name": "ipython",
    "version": 3
   },
   "file_extension": ".py",
   "mimetype": "text/x-python",
   "name": "python",
   "nbconvert_exporter": "python",
   "pygments_lexer": "ipython3",
   "version": "3.7.0"
  }
 },
 "nbformat": 4,
 "nbformat_minor": 2
}
